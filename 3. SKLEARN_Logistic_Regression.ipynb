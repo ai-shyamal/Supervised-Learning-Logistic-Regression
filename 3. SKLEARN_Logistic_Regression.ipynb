{
 "cells": [
  {
   "cell_type": "code",
   "execution_count": 4,
   "id": "7c4bf324-bae4-410b-9081-9ee00c55b8c7",
   "metadata": {},
   "outputs": [
    {
     "name": "stdout",
     "output_type": "stream",
     "text": [
      "MODEL WITHOUT RANDOM STATE\n",
      "MODEL COEFFICIENT   [[1.26359555]]\n",
      "MODEL INTERCEPT     [-0.38075399]\n",
      "Accuracy            0.6666666666666666\n",
      "y_pred              [1 0 0]\n",
      "MODEL WITH RANDOM STATE\n",
      "MODEL COEFFICIENT   [[1.26359555]]\n",
      "MODEL INTERCEPT     [-0.38075399]\n",
      "Accuracy            0.6666666666666666\n",
      "y_pred              [1 0 0]\n",
      "[0.4400636]\n",
      "[-2.76967068]\n",
      "[8]\n",
      "1\n"
     ]
    }
   ],
   "source": [
    "import numpy as np \n",
    "from sklearn.linear_model import LogisticRegression\n",
    "from sklearn.model_selection import train_test_split\n",
    "from sklearn.preprocessing import StandardScaler\n",
    "from sklearn.metrics import accuracy_score\n",
    "\n",
    "X = np.array([[1],[2],[3],[4],[5],[6],[7],[8],[9],[10]]) \n",
    "y = np.array([0,0,0,0,0,1,1,1,1,1])\n",
    "\n",
    "def sigmoid(z):\n",
    "    g = 1 / (1+np.exp(-z))\n",
    "    return g \n",
    "\n",
    "def run_model():\n",
    "    X_train,X_test,y_train,y_test = train_test_split(X,y,test_size = 0.3, random_state = 42)\n",
    "\n",
    "    scaler = StandardScaler()\n",
    "    X_train_scaled = scaler.fit_transform(X_train)\n",
    "    X_test_scaled = scaler.transform(X_test)\n",
    "\n",
    "    model_without_state = LogisticRegression()\n",
    "    model_with_state = LogisticRegression(random_state = 42)\n",
    "    model_without_state.fit(X_train_scaled, y_train)\n",
    "    model_with_state.fit(X_train_scaled, y_train)\n",
    "\n",
    "    y_pred = model_without_state.predict(X_test_scaled)\n",
    "    y_pred_2 = model_with_state.predict(X_test_scaled)\n",
    "\n",
    "    acc  = accuracy_score(y_test,y_pred)\n",
    "    acc_2  = accuracy_score(y_test,y_pred_2)\n",
    "\n",
    "    print(\"MODEL WITHOUT RANDOM STATE\")\n",
    "    print(f\"MODEL COEFFICIENT   {model_without_state.coef_}\")\n",
    "    print(f\"MODEL INTERCEPT     {model_without_state.intercept_}\")\n",
    "    print(f\"Accuracy            {acc}\")\n",
    "    print(f\"y_pred              {y_pred}\")\n",
    "\n",
    "    print(\"MODEL WITH RANDOM STATE\")\n",
    "    print(f\"MODEL COEFFICIENT   {model_with_state.coef_}\")\n",
    "    print(f\"MODEL INTERCEPT     {model_with_state.intercept_}\")\n",
    "    print(f\"Accuracy            {acc_2}\")\n",
    "    print(f\"y_pred              {y_pred_2}\")\n",
    "\n",
    "\n",
    "    real_coef = model_with_state.coef_[0] / scaler.scale_[0]\n",
    "    real_intercept = model_with_state.intercept_[0] - real_coef * scaler.mean_[0]\n",
    "    print(real_coef)\n",
    "    print(real_intercept)\n",
    "\n",
    "    z_pred_original = real_coef*X_train[1] + real_intercept\n",
    "    y_prob_original = sigmoid(z_pred_original)\n",
    "    y_class_original = 1 if y_prob_original>=0.5 else 0 \n",
    "    print(X_train[1])\n",
    "    print(y_class_original)\n",
    "\n",
    "run_model()\n"
   ]
  },
  {
   "cell_type": "code",
   "execution_count": null,
   "id": "600f3a63-1272-43e6-b019-81e727d9a922",
   "metadata": {},
   "outputs": [],
   "source": []
  }
 ],
 "metadata": {
  "kernelspec": {
   "display_name": "Python 3 (ipykernel)",
   "language": "python",
   "name": "python3"
  },
  "language_info": {
   "codemirror_mode": {
    "name": "ipython",
    "version": 3
   },
   "file_extension": ".py",
   "mimetype": "text/x-python",
   "name": "python",
   "nbconvert_exporter": "python",
   "pygments_lexer": "ipython3",
   "version": "3.13.5"
  }
 },
 "nbformat": 4,
 "nbformat_minor": 5
}
