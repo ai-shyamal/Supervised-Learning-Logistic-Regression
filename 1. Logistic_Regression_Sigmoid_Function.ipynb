{
 "cells": [
  {
   "cell_type": "code",
   "execution_count": 4,
   "id": "37d5fd99-7c85-42d1-9804-cc55594b77ae",
   "metadata": {},
   "outputs": [
    {
     "name": "stdout",
     "output_type": "stream",
     "text": [
      "[1 2 3]\n",
      "[ 2.718  7.389 20.086]\n",
      "2.718281828459045\n",
      "[[-1.000e+01  4.540e-05]\n",
      " [-9.000e+00  1.234e-04]\n",
      " [-8.000e+00  3.354e-04]\n",
      " [-7.000e+00  9.111e-04]\n",
      " [-6.000e+00  2.473e-03]\n",
      " [-5.000e+00  6.693e-03]\n",
      " [-4.000e+00  1.799e-02]\n",
      " [-3.000e+00  4.743e-02]\n",
      " [-2.000e+00  1.192e-01]\n",
      " [-1.000e+00  2.689e-01]\n",
      " [ 0.000e+00  5.000e-01]\n",
      " [ 1.000e+00  7.311e-01]\n",
      " [ 2.000e+00  8.808e-01]\n",
      " [ 3.000e+00  9.526e-01]\n",
      " [ 4.000e+00  9.820e-01]\n",
      " [ 5.000e+00  9.933e-01]\n",
      " [ 6.000e+00  9.975e-01]\n",
      " [ 7.000e+00  9.991e-01]\n",
      " [ 8.000e+00  9.997e-01]\n",
      " [ 9.000e+00  9.999e-01]\n",
      " [ 1.000e+01  1.000e+00]]\n"
     ]
    }
   ],
   "source": [
    "import numpy as np \n",
    "x = np.array([1,2,3])\n",
    "print(x)\n",
    "x_exp = np.exp(x)\n",
    "print(x_exp)\n",
    "y = 1\n",
    "print(np.exp(y))\n",
    "\n",
    "def sigmoid(z):\n",
    "\n",
    "    g = 1 / (1+np.exp(-z))\n",
    "    return g \n",
    "z_tmp = np.arange(-10,11)\n",
    "y = sigmoid(z_tmp)\n",
    "np.set_printoptions(precision = 3)\n",
    "print(np.c_[z_tmp , y ])\n"
   ]
  },
  {
   "cell_type": "code",
   "execution_count": null,
   "id": "4d472fe2-f33a-4a94-9c80-513b1da62df6",
   "metadata": {},
   "outputs": [],
   "source": []
  }
 ],
 "metadata": {
  "kernelspec": {
   "display_name": "Python 3 (ipykernel)",
   "language": "python",
   "name": "python3"
  },
  "language_info": {
   "codemirror_mode": {
    "name": "ipython",
    "version": 3
   },
   "file_extension": ".py",
   "mimetype": "text/x-python",
   "name": "python",
   "nbconvert_exporter": "python",
   "pygments_lexer": "ipython3",
   "version": "3.13.5"
  }
 },
 "nbformat": 4,
 "nbformat_minor": 5
}
